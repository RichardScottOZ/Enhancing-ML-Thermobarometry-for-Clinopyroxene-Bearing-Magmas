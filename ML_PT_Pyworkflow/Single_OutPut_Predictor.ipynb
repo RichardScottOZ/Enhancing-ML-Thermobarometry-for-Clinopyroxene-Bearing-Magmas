{
 "cells": [
  {
   "cell_type": "markdown",
   "id": "4d9b1460-7be0-47bc-802e-d883e532733c",
   "metadata": {},
   "source": [
    "# **Clinopyroxene and clinopyroxene-liquid thermo-barometers**\n",
    "\n",
    "This script applies pre-trained models to your data set and it gives you back pressure or temperature estimates of your samples in kbar and °C, respectively.\n",
    "What do you need to do?\n",
    "1. You just need to replace the values of the oxides you find in the \"Unknowns-template.xlsx\" (in the datasets folder) with your own measurements. Do not change the name of the file or the name of the columns!\n",
    "2. Select between 'cpx_only' or 'cpx_liquid' and  'Temperature' or 'Pressure' on the next cell.\n",
    "3. Press the \"restart the kernel and run all cells\" button to get your results! Your results will be in an Excel file in the \"out-files\" folder.\n",
    "Note: To specify your own errors, go to cell 'Monte Carlo error propagation' and follow the instructions. The user is responsible for the pre-processing step of their own data,  e.g., filtering, equilibrium tests, etc."
   ]
  },
  {
   "cell_type": "markdown",
   "id": "bd60f758",
   "metadata": {},
   "source": [
    "# Settings"
   ]
  },
  {
   "cell_type": "code",
   "execution_count": 32,
   "id": "c35acbcf",
   "metadata": {
    "ExecuteTime": {
     "end_time": "2024-07-19T09:16:32.581981Z",
     "start_time": "2024-07-19T09:16:32.576820Z"
    }
   },
   "outputs": [],
   "source": [
    "model = 'cpx_only' # 'cpx_only' or 'cpx_liquid'\n",
    "output = 'Temperature' # 'Temperature' or 'Pressure'\n",
    "p = 1000  #Number of replicates in the -Carlo simulation-putting a low number will result in an incorrect estimation of the error.\n"
   ]
  },
  {
   "cell_type": "markdown",
   "id": "c4d78ade",
   "metadata": {},
   "source": [
    "# Import"
   ]
  },
  {
   "cell_type": "code",
   "execution_count": 33,
   "id": "52db237b",
   "metadata": {
    "ExecuteTime": {
     "end_time": "2024-07-19T09:16:33.389588Z",
     "start_time": "2024-07-19T09:16:33.381137Z"
    },
    "init_cell": true
   },
   "outputs": [],
   "source": [
    "import numpy as np\n",
    "import pandas as pd\n",
    "import json\n",
    "import onnxruntime as rt\n",
    "import scipy.stats as st\n",
    "from sklearn.metrics import r2_score\n",
    "import matplotlib.pyplot as plt\n",
    "from sklearn.metrics import mean_squared_error as RMSE\n",
    "from ML_PT_Pyworkflow import*\n",
    "\n",
    "import warnings\n",
    "warnings.filterwarnings('ignore')"
   ]
  },
  {
   "cell_type": "markdown",
   "id": "f55c4007",
   "metadata": {},
   "source": [
    "# Data Loading"
   ]
  },
  {
   "cell_type": "markdown",
   "id": "b7f7219c-52ef-48da-bf9b-b866a2330c7f",
   "metadata": {},
   "source": [
    "Available datasets: \n",
    "- \"Jorgenson\": dataset used for training and testing.\n",
    "- \"Train_P\": training dataset for pressure cpx and cpx_liquid models\n",
    "- \"Train_T\": training dataset for temperature cpx and cpx_liquid models.\n",
    "- \"ArcPl\": External test, Filtered ArcPl compilation, original data from: __[Wieser et al.(2023)](https://doi.org/10.1093/petrology/egac126)__ .\n",
    "- \"Test_P\": Internal test (20 % of original dataset) used to evaluate pressure estimates using cpx and cpx_liquid models.\n",
    "- \"Test_T\": Internal test (20 % of original dataset) used to evaluate temperature estimates using cpx and cpx_liquid models.\n",
    "- \"Unknowns\": The user unknowns."
   ]
  },
  {
   "cell_type": "code",
   "execution_count": 34,
   "id": "d134add8",
   "metadata": {
    "ExecuteTime": {
     "end_time": "2024-07-19T09:16:34.083056Z",
     "start_time": "2024-07-19T09:16:34.029475Z"
    }
   },
   "outputs": [],
   "source": [
    "#df_init = Dataset.Unknowns\n",
    "df_init = Dataset.Test_T\n",
    "df  = data_imputation(df_init)\n",
    "\n",
    "Elements_Cpx = ['SiO2_Cpx', 'TiO2_Cpx', 'Al2O3_Cpx', 'FeOt_Cpx', 'MgO_Cpx', 'MnO_Cpx', 'CaO_Cpx',  'Na2O_Cpx', 'Cr2O3_Cpx']\n",
    "Elements_Liq = ['SiO2_Liq', 'TiO2_Liq', 'Al2O3_Liq', 'FeOt_Liq', 'MgO_Liq', 'MnO_Liq', 'CaO_Liq',  'Na2O_Liq', 'K2O_Liq']\n",
    "\n",
    "if model == 'cpx_only':\n",
    "    for element in Elements_Cpx:\n",
    "        df_m = replace_zeros(df, element)\n",
    "    sample_names = df['Sample_ID'] \n",
    "    Xd = df[Elements_Cpx]\n",
    "    X = np.array(Xd)\n",
    "        \n",
    "elif model == 'cpx_liquid':\n",
    "    for element in Elements_Cpx:\n",
    "        df_m = replace_zeros(df, element) \n",
    "    for element in Elements_Liq:\n",
    "        df_m = replace_zeros(df, element)\n",
    "    sample_names = df['Sample_ID'] \n",
    "    Xd = df[Elements_Cpx+Elements_Liq]\n",
    "    X = np.array(Xd)"
   ]
  },
  {
   "cell_type": "markdown",
   "id": "d014ec0a",
   "metadata": {},
   "source": [
    "## Training bounds"
   ]
  },
  {
   "cell_type": "code",
   "execution_count": 35,
   "id": "aa75d414",
   "metadata": {
    "ExecuteTime": {
     "end_time": "2024-07-19T09:16:35.150941Z",
     "start_time": "2024-07-19T09:16:35.096367Z"
    }
   },
   "outputs": [],
   "source": [
    "if model == 'cpx_only' and output == 'Pressure':\n",
    "    pred_max_bound = np.ones(len(X)) * 30.000000\n",
    "    pred_min_bound = np.ones(len(X)) * 0.00000\n",
    "    warning = df.apply(lambda x: '' if 0.250000<=x['Al2O3_Cpx']<=25.760000\n",
    "                                      and 0.000137<=x['Na2O_Cpx']<=7.760000\n",
    "                                      and 0.400000<=x['CaO_Cpx']<=24.820000\n",
    "                                    else 'Input out of bound', axis=1) \n",
    "elif model == 'cpx_liquid' and output == 'Pressure':\n",
    "    pred_max_bound = np.ones(len(X)) * 30.000000\n",
    "    pred_min_bound = np.ones(len(X)) * 0.00000\n",
    "    warning = df.apply(lambda x: '' if 0.250000<=x['Al2O3_Cpx']<=25.760000\n",
    "                                      and 0.000137<=x['Na2O_Cpx']<=7.760000\n",
    "                                      and 0.030000<=x['MgO_Liq']<=18.587513\n",
    "                                    else 'Input out of bound', axis=1) \n",
    "elif model == 'cpx_only' and output == 'Temperature':\n",
    "    pred_max_bound = np.ones(len(X)) * 1700.000000\n",
    "    pred_min_bound = np.ones(len(X)) * 700.000000\n",
    "    warning = df.apply(lambda x: '' if 0.760000<=x['MgO_Cpx']<=31.300000\n",
    "                                      and 0.400000<=x['CaO_Cpx']<=24.820000\n",
    "                                      and 0.290000<=x['Al2O3_Cpx']<=19.010000\n",
    "                                      and 1.700000<=x['FeOt_Cpx']<=34.200000\n",
    "                                      and 0.000179<=x['MnO_Cpx']<=2.980000\n",
    "                                    else 'Input out of bound', axis=1)\n",
    "elif model == 'cpx_liquid' and output == 'Temperature':\n",
    "    pred_max_bound = np.ones(len(X)) * 1700.000000\n",
    "    pred_min_bound = np.ones(len(X)) * 700.000000\n",
    "    warning = df.apply(lambda x: '' if 0.030000<=x['MgO_Liq']<=17.723561\n",
    "                                    else 'Input out of bound', axis=1)"
   ]
  },
  {
   "cell_type": "markdown",
   "id": "92e72e2c",
   "metadata": {},
   "source": [
    "# Monte Carlo error propagation"
   ]
  },
  {
   "cell_type": "code",
   "execution_count": 36,
   "id": "c85a95b4",
   "metadata": {
    "ExecuteTime": {
     "end_time": "2024-07-19T09:16:36.238459Z",
     "start_time": "2024-07-19T09:16:36.229137Z"
    }
   },
   "outputs": [],
   "source": [
    "std_dev_perc = Parameters.oxide_rel_err \n",
    "K = Parameters.K_rel_err\n",
    "\n",
    "if model == 'cpx_only':\n",
    "    std_dev_perc = std_dev_perc\n",
    "            \n",
    "elif model == 'cpx_liquid':\n",
    "    std_dev_perc_temp_1 = std_dev_perc\n",
    "    std_dev_perc_temp_2 = std_dev_perc[:-1]\n",
    "    std_dev_perc = np.concatenate((std_dev_perc_temp_1,std_dev_perc_temp_2,K),axis=None)"
   ]
  },
  {
   "cell_type": "markdown",
   "id": "47e57f47-695c-4f2a-a9ea-d91fccfaad6c",
   "metadata": {},
   "source": [
    "To specify different errors for each observation, you can upload an Excel file using the cell below (uncomment the lines). The structure of the Excel file needs to have the same size of your input file and the name of the columns must be the following: \n",
    "\n",
    "- cpx_only: 'SiO2_Cpx', 'TiO2_Cpx', 'Al2O3_Cpx', 'FeOt_Cpx', 'MgO_Cpx', 'MnO_Cpx', 'CaO_Cpx',  'Na2O_Cpx', 'Cr2O3_Cpx'\n",
    "- Cpx_liquid: 'SiO2_Cpx', 'TiO2_Cpx', 'Al2O3_Cpx', 'FeOt_Cpx', 'MgO_Cpx', 'MnO_Cpx', 'CaO_Cpx',  'Na2O_Cpx', 'Cr2O3_Cpx','SiO2_Liq', 'TiO2_Liq', 'Al2O3_Liq', 'FeOt_Liq', 'MgO_Liq', 'MnO_Liq', 'CaO_Liq',  'Na2O_Liq', 'K2O_Liq' \n"
   ]
  },
  {
   "cell_type": "code",
   "execution_count": 37,
   "id": "e7d80378-00aa-46f9-82fd-1408a0974379",
   "metadata": {},
   "outputs": [],
   "source": [
    "#df_std_dev_perc = pd.read_excel('...xlsx')\n",
    "#\n",
    "#if len(df_std_dev_perc)!=len(X) or len(df_std_dev_perc.columns)!=np.shape(X)[1]:\n",
    "#    print(\"Input dataset and standard deviation has different size. We are using the default relative errors for all observations.\")\n",
    "#else:\n",
    "#    std_dev_perc=np.array(df_std_dev_perc)\n",
    "    "
   ]
  },
  {
   "cell_type": "code",
   "execution_count": 38,
   "id": "2a72170a",
   "metadata": {
    "ExecuteTime": {
     "end_time": "2024-07-19T09:16:38.210524Z",
     "start_time": "2024-07-19T09:16:36.880976Z"
    }
   },
   "outputs": [],
   "source": [
    "X_perturb, groups = input_perturbation(X,std_dev_perc ,n_perturbations=p)"
   ]
  },
  {
   "cell_type": "markdown",
   "id": "8edb5bf3",
   "metadata": {},
   "source": [
    "# Model Prediction"
   ]
  },
  {
   "cell_type": "code",
   "execution_count": 40,
   "id": "f6d3f37b-708e-4dfa-bbbb-eff68420f4ac",
   "metadata": {
    "ExecuteTime": {
     "end_time": "2024-07-19T09:16:41.885141Z",
     "start_time": "2024-07-19T09:16:38.862963Z"
    }
   },
   "outputs": [],
   "source": [
    "scaler, predictor, bias_json = P_T_predictors(output, model)\n",
    "X_perturb_s = scaler.transform(X_perturb)\n",
    "\n",
    "bias_popt_left = np.array(bias_json['slope']['left'])\n",
    "bias_popt_right = np.array(bias_json['slope']['right'])\n",
    "ang_left = bias_json['angle']['left']\n",
    "ang_right = bias_json['angle']['right']\n",
    "\n",
    "input_name = predictor.get_inputs()[0].name  \n",
    "label_name = predictor.get_outputs()[0].name \n",
    "y_pred = predictor.run([label_name],{input_name: X_perturb_s.astype(np.float32)})[0]\n"
   ]
  },
  {
   "cell_type": "code",
   "execution_count": 41,
   "id": "27cdc511",
   "metadata": {
    "ExecuteTime": {
     "end_time": "2024-07-19T09:18:31.066726Z",
     "start_time": "2024-07-19T09:18:30.428612Z"
    }
   },
   "outputs": [
    {
     "name": "stdout",
     "output_type": "stream",
     "text": [
      "Predictions:\n",
      "     Temperature_C  Percentile_84  Percentile_16 warning\n",
      "0      1153.704956    1240.769268    1060.331948        \n",
      "1      1211.632812    1283.092539    1132.247910        \n",
      "2      1043.909668    1147.347588     935.846196        \n",
      "3      1078.384277    1190.849043     972.067727        \n",
      "4      1073.906250    1173.890234     951.481375        \n",
      "..             ...            ...            ...     ...\n",
      "352    1141.362915    1240.282925    1038.518755        \n",
      "353    1207.458984    1301.315190    1113.941030        \n",
      "354    1143.077637    1228.432144    1056.428818        \n",
      "355    1110.131592    1216.071631     992.052544        \n",
      "356    1143.416992    1229.711309    1059.250151        \n",
      "\n",
      "[357 rows x 4 columns]\n",
      "  Sample_ID  SiO2_Cpx  TiO2_Cpx  Al2O3_Cpx  FeOt_Cpx  MgO_Cpx  MnO_Cpx  \\\n",
      "0       230     51.67      0.47       4.50      6.11    16.84     0.18   \n",
      "1      1905     54.00      0.13       0.70      4.10    19.60     0.12   \n",
      "2      1461     51.20      0.41       2.49     13.67    13.37     0.87   \n",
      "3      1954     50.10      0.53       3.85     10.20    14.00     0.58   \n",
      "4      1972     51.62      1.74      14.17      7.34     8.71     0.10   \n",
      "\n",
      "   CaO_Cpx  Na2O_Cpx  Cr2O3_Cpx  Temperature_C  Percentile_84  Percentile_16  \\\n",
      "0    21.11  0.250000   0.002899    1153.704956    1240.769268    1060.331948   \n",
      "1    20.20  0.004949   0.590000    1211.632812    1283.092539    1132.247910   \n",
      "2    17.25  0.440000   0.004759    1043.909668    1147.347588     935.846196   \n",
      "3    19.40  0.390000   0.004231    1078.384277    1190.849043     972.067727   \n",
      "4    13.65  3.490000   0.008375    1073.906250    1173.890234     951.481375   \n",
      "\n",
      "  warning  \n",
      "0          \n",
      "1          \n",
      "2          \n",
      "3          \n",
      "4          \n",
      "  Sample_ID  SiO2_Cpx  TiO2_Cpx  Al2O3_Cpx  FeOt_Cpx  MgO_Cpx  MnO_Cpx  \\\n",
      "0       230     51.67      0.47       4.50      6.11    16.84     0.18   \n",
      "1      1905     54.00      0.13       0.70      4.10    19.60     0.12   \n",
      "2      1461     51.20      0.41       2.49     13.67    13.37     0.87   \n",
      "3      1954     50.10      0.53       3.85     10.20    14.00     0.58   \n",
      "4      1972     51.62      1.74      14.17      7.34     8.71     0.10   \n",
      "\n",
      "   CaO_Cpx  Na2O_Cpx  Cr2O3_Cpx  Temperature_C  Percentile_84  Percentile_16  \\\n",
      "0    21.11  0.250000   0.002899    1153.704956    1240.769268    1060.331948   \n",
      "1    20.20  0.004949   0.590000    1211.632812    1283.092539    1132.247910   \n",
      "2    17.25  0.440000   0.004759    1043.909668    1147.347588     935.846196   \n",
      "3    19.40  0.390000   0.004231    1078.384277    1190.849043     972.067727   \n",
      "4    13.65  3.490000   0.008375    1073.906250    1173.890234     951.481375   \n",
      "\n",
      "  warning  \n",
      "0          \n",
      "1          \n",
      "2          \n",
      "3          \n",
      "4          \n"
     ]
    }
   ],
   "source": [
    "unit = 'kbar' if output == 'Pressure' else 'C'\n",
    "    \n",
    "unique_y_pred = np.apply_along_axis(np.median,1, np.split(y_pred[:,0],len(y_pred)/p))\n",
    "unique_y_perc_max = np.apply_along_axis(max_perc,1, np.split(y_pred[:,0],len(y_pred)/p))\n",
    "unique_y_perc_min = np.apply_along_axis(min_perc,1, np.split(y_pred[:,0],len(y_pred)/p))\n",
    "\n",
    "bias_temp = bias_f(unique_y_pred,\n",
    "                   ang_left, bias_popt_left, \n",
    "                   ang_right, bias_popt_right)\n",
    "\n",
    "\n",
    "unique_y_pred_temp = unique_y_pred - bias_temp\n",
    "unique_y_perc_max_temp = unique_y_perc_max - bias_temp\n",
    "unique_y_perc_min_temp =  unique_y_perc_min - bias_temp\n",
    "\n",
    "# Bound of the training set \n",
    "unique_y_pred = np.minimum(pred_max_bound, np.maximum(pred_min_bound, unique_y_pred_temp))\n",
    "unique_y_perc_max = np.minimum(pred_max_bound, np.maximum(pred_min_bound, unique_y_perc_max_temp))\n",
    "unique_y_perc_min = np.minimum(pred_max_bound, np.maximum(pred_min_bound, unique_y_perc_min_temp))\n",
    "\n",
    "\n",
    "error = (unique_y_perc_max - unique_y_perc_min)/2\n",
    "predictions = pd.DataFrame(data=np.transpose(np.array([unique_y_pred,unique_y_perc_max,unique_y_perc_min])),    \n",
    "             columns=[output+'_'+unit, 'Percentile_84', 'Percentile_16']) \n",
    "predictions['warning'] = warning\n",
    "\n",
    "print('Predictions:')\n",
    "print(predictions)\n",
    "\n",
    "df_orig = df_init\n",
    "df_orig['Sample_ID'] = df_orig['Sample_ID'].astype(str)\n",
    "\n",
    "if model == 'cpx_only':\n",
    "    df_orig = pd.concat([df_orig['Sample_ID'], df_orig[Elements_Cpx]], axis=1)\n",
    "    output_file_name = 'out-files/Results_cpx_only_' + output + '.xlsx'\n",
    "    \n",
    "elif model == 'cpx_liquid':\n",
    "    df_orig = pd.concat([df_orig['Sample_ID'], df_orig[Elements_Cpx + Elements_Liq]], axis=1)\n",
    "    output_file_name = 'out-files/Results_cpx_liquid_' + output + '.xlsx'\n",
    "    \n",
    "finaldf = pd.concat([df_orig, predictions], axis=1)    \n",
    "print(finaldf.head())\n",
    "\n",
    "\n",
    "print(finaldf.head())\n",
    "finaldf.to_excel(output_file_name, sheet_name=output, index=False)\n"
   ]
  },
  {
   "cell_type": "code",
   "execution_count": 42,
   "id": "61de12ed-2474-4fb1-821b-9f7a43e6b38f",
   "metadata": {},
   "outputs": [
    {
     "data": {
      "text/plain": [
       "array(['', 'Input out of bound'], dtype=object)"
      ]
     },
     "execution_count": 42,
     "metadata": {},
     "output_type": "execute_result"
    }
   ],
   "source": [
    "warning.unique()"
   ]
  },
  {
   "cell_type": "markdown",
   "id": "4bc340fd-680d-4cc1-9f5e-a81d9bdfd705",
   "metadata": {},
   "source": [
    "# Data Visualization"
   ]
  },
  {
   "cell_type": "code",
   "execution_count": 43,
   "id": "3a06da2e-394c-4246-a0bc-189461e0a314",
   "metadata": {
    "ExecuteTime": {
     "end_time": "2024-07-18T15:33:05.616805Z",
     "start_time": "2024-07-18T15:33:05.264833Z"
    }
   },
   "outputs": [
    {
     "data": {
      "image/png": "[encoded data removed]",
      "text/plain": [
       "<Figure size 640x480 with 1 Axes>"
      ]
     },
     "metadata": {},
     "output_type": "display_data"
    }
   ],
   "source": [
    "# Plot histogram\n",
    "My_color = '#9BB0C1' if output == 'Pressure' else '#D37676'\n",
    "plt.hist(finaldf[output+'_'+unit], color=My_color, edgecolor='black')\n",
    "plt.xlabel(output+' ['+unit+']')\n",
    "plt.ylabel('Frequency')\n",
    "plt.title(output)\n",
    "plt.grid(color='#B2B2B2', linestyle='--', linewidth=0.5, alpha=0.4)\n",
    "plt.savefig('Figures/'+'Results_'+output+ ('_cpx' if model== 'cpx_only' else '_cpx_liq') +'.pdf', format='pdf')\n"
   ]
  },
  {
   "cell_type": "code",
   "execution_count": null,
   "id": "4a6ed400-155d-4579-abe9-bd95602f2ee3",
   "metadata": {},
   "outputs": [],
   "source": []
  }
 ],
 "metadata": {
  "kernelspec": {
   "display_name": "Python 3 (ipykernel)",
   "language": "python",
   "name": "python3"
  },
  "language_info": {
   "codemirror_mode": {
    "name": "ipython",
    "version": 3
   },
   "file_extension": ".py",
   "mimetype": "text/x-python",
   "name": "python",
   "nbconvert_exporter": "python",
   "pygments_lexer": "ipython3",
   "version": "3.11.5"
  },
  "toc": {
   "base_numbering": 1,
   "nav_menu": {},
   "number_sections": true,
   "sideBar": true,
   "skip_h1_title": false,
   "title_cell": "Table of Contents",
   "title_sidebar": "Contents",
   "toc_cell": false,
   "toc_position": {
    "height": "calc(100% - 180px)",
    "left": "10px",
    "top": "150px",
    "width": "165px"
   },
   "toc_section_display": true,
   "toc_window_display": false
  }
 },
 "nbformat": 4,
 "nbformat_minor": 5
}
