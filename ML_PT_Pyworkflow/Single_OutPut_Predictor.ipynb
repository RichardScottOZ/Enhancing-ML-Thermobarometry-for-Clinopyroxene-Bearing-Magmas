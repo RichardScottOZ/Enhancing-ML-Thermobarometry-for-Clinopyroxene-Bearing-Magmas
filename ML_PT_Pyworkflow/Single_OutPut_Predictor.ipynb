{
 "cells": [
  {
   "cell_type": "markdown",
   "id": "4d9b1460-7be0-47bc-802e-d883e532733c",
   "metadata": {},
   "source": [
    "# **Clinopyroxene and clinopyroxene-liquid thermo-barometers**\n",
    "\n",
    "This script applies pre-trained models to your data set and it gives you back pressure or temperature estimates of your samples in kbar and °C, respectively.\n",
    "What do you need to do?\n",
    "1. You just need to replace the values of the oxides you find in the \"Unknowns-template.xlsx\" (in the datasets folder) with your own measurements. Do not change the name of the file or the name of the columns!\n",
    "2. Select between 'cpx_only' or 'cpx_liquid' and  'Temperature' or 'Pressure' on the next cell.\n",
    "3. Press the \"restart the kernel and run all cells\" button and to get your results! You will have an excel file in the \"out-files\" folder with your results."
   ]
  },
  {
   "cell_type": "markdown",
   "id": "bd60f758",
   "metadata": {},
   "source": [
    "# Settings"
   ]
  },
  {
   "cell_type": "code",
   "execution_count": 2,
   "id": "c35acbcf",
   "metadata": {
    "ExecuteTime": {
     "end_time": "2024-03-14T11:35:57.996762Z",
     "start_time": "2024-03-14T11:35:57.992289Z"
    }
   },
   "outputs": [],
   "source": [
    "model = 'cpx_liquid' # 'cpx_only' or 'cpx_liquid'\n",
    "output = 'Temperature' # 'Temperature' or 'Pressure'\n",
    "p = 1000  "
   ]
  },
  {
   "cell_type": "markdown",
   "id": "c4d78ade",
   "metadata": {},
   "source": [
    "# Import"
   ]
  },
  {
   "cell_type": "code",
   "execution_count": 1,
   "id": "52db237b",
   "metadata": {
    "ExecuteTime": {
     "end_time": "2024-03-14T11:35:57.010228Z",
     "start_time": "2024-03-14T11:35:56.996190Z"
    },
    "init_cell": true
   },
   "outputs": [],
   "source": [
    "import numpy as np\n",
    "import pandas as pd\n",
    "import json\n",
    "import onnxruntime as rt\n",
    "import scipy.stats as st\n",
    "from sklearn.metrics import r2_score\n",
    "import matplotlib.pyplot as plt\n",
    "from sklearn.metrics import mean_squared_error as RMSE\n",
    "from ML_PT_Pyworkflow import*\n",
    "\n",
    "import warnings\n",
    "warnings.filterwarnings('ignore')"
   ]
  },
  {
   "cell_type": "markdown",
   "id": "f55c4007",
   "metadata": {},
   "source": [
    "# Data Loading"
   ]
  },
  {
   "cell_type": "code",
   "execution_count": 3,
   "id": "d134add8",
   "metadata": {
    "ExecuteTime": {
     "end_time": "2024-03-14T11:35:58.894377Z",
     "start_time": "2024-03-14T11:35:58.859538Z"
    }
   },
   "outputs": [],
   "source": [
    "df_init  = Dataset.Unknowns\n",
    "df  = data_imputation(df_init)\n",
    "\n",
    "Elements_Cpx = ['SiO2_Cpx', 'TiO2_Cpx', 'Al2O3_Cpx', 'FeOt_Cpx', 'MgO_Cpx', 'MnO_Cpx', 'CaO_Cpx',  'Na2O_Cpx', 'Cr2O3_Cpx']\n",
    "Elements_Liq = ['SiO2_Liq', 'TiO2_Liq', 'Al2O3_Liq', 'FeOt_Liq', 'MgO_Liq', 'MnO_Liq', 'CaO_Liq',  'Na2O_Liq', 'K2O_Liq']\n",
    "\n",
    "if model == 'cpx_only':\n",
    "    for element in Elements_Cpx:\n",
    "        df_m = replace_zeros(df, element)\n",
    "    sample_names = df['Sample_ID'] \n",
    "    Xd = df[Elements_Cpx]\n",
    "    X = np.array(Xd)\n",
    "        \n",
    "elif model == 'cpx_liquid':\n",
    "    for element in Elements_Cpx:\n",
    "        df_m = replace_zeros(df, element) \n",
    "    for element in Elements_Liq:\n",
    "        df_m = replace_zeros(df, element)\n",
    "    sample_names = df['Sample_ID'] \n",
    "    Xd = df[Elements_Cpx+Elements_Liq]\n",
    "    X = np.array(Xd)"
   ]
  },
  {
   "cell_type": "markdown",
   "id": "92e72e2c",
   "metadata": {},
   "source": [
    "# Data Perturbation"
   ]
  },
  {
   "cell_type": "code",
   "execution_count": 4,
   "id": "c85a95b4",
   "metadata": {
    "ExecuteTime": {
     "end_time": "2024-03-14T11:35:59.885420Z",
     "start_time": "2024-03-14T11:35:59.876371Z"
    }
   },
   "outputs": [],
   "source": [
    "std_dev_perc = Parameters.oxide_rel_err\n",
    "K = Parameters.K_rel_err\n",
    "\n",
    "if model == 'cpx_only':\n",
    "    std_dev_perc = std_dev_perc\n",
    "            \n",
    "elif model == 'cpx_liquid':\n",
    "    std_dev_perc_temp_1 = std_dev_perc\n",
    "    std_dev_perc_temp_2 = std_dev_perc[:-1]\n",
    "    std_dev_perc = np.concatenate((std_dev_perc_temp_1,std_dev_perc_temp_2,K),axis=None)"
   ]
  },
  {
   "cell_type": "code",
   "execution_count": 5,
   "id": "2a72170a",
   "metadata": {
    "ExecuteTime": {
     "end_time": "2024-03-14T11:36:00.884221Z",
     "start_time": "2024-03-14T11:36:00.410985Z"
    }
   },
   "outputs": [],
   "source": [
    "X_perturb, groups = input_perturbation(X,std_dev_perc ,n_perturbations=p)"
   ]
  },
  {
   "cell_type": "markdown",
   "id": "8edb5bf3",
   "metadata": {},
   "source": [
    "# Model Prediction"
   ]
  },
  {
   "cell_type": "code",
   "execution_count": 6,
   "id": "f6d3f37b-708e-4dfa-bbbb-eff68420f4ac",
   "metadata": {
    "ExecuteTime": {
     "end_time": "2024-03-14T11:36:01.981266Z",
     "start_time": "2024-03-14T11:36:01.408158Z"
    }
   },
   "outputs": [],
   "source": [
    "scaler, predictor, bias_json = P_T_predictors(output, model)\n",
    "X_perturb_s = scaler.transform(X_perturb)\n",
    "\n",
    "bias_popt_left = np.array(bias_json['slope']['left'])\n",
    "bias_popt_right = np.array(bias_json['slope']['right'])\n",
    "ang_left = bias_json['angle']['left']\n",
    "ang_right = bias_json['angle']['right']\n",
    "\n",
    "input_name = predictor.get_inputs()[0].name  \n",
    "label_name = predictor.get_outputs()[0].name \n",
    "y_pred = predictor.run([label_name],{input_name: X_perturb_s.astype(np.float32)})[0]\n"
   ]
  },
  {
   "cell_type": "code",
   "execution_count": 7,
   "id": "27cdc511",
   "metadata": {
    "ExecuteTime": {
     "end_time": "2024-03-14T11:36:02.941510Z",
     "start_time": "2024-03-14T11:36:02.678869Z"
    }
   },
   "outputs": [
    {
     "name": "stdout",
     "output_type": "stream",
     "text": [
      "Predictions:\n",
      "     Temperature_C  Percentile_84  Percentile_16\n",
      "0      1139.245605    1139.414795    1138.755840\n",
      "1      1296.646240    1314.672910    1276.815474\n",
      "2      1015.845764    1017.381978    1014.765881\n",
      "3      1337.841064    1345.050371    1330.415322\n",
      "4      1267.686890    1269.444292    1264.922632\n",
      "..             ...            ...            ...\n",
      "352    1299.786499    1300.884478    1298.803706\n",
      "353    1181.021240    1189.718467    1176.125659\n",
      "354     969.513367     971.243132     968.075525\n",
      "355    1200.239502    1206.009165    1195.778647\n",
      "356    1032.720459    1038.613369    1027.745713\n",
      "\n",
      "[357 rows x 3 columns]\n",
      "  Sample_ID  SiO2_Cpx  TiO2_Cpx  Al2O3_Cpx  FeOt_Cpx  MgO_Cpx  MnO_Cpx  \\\n",
      "0      1542     51.98      0.26       1.54  12.82994    15.66     0.57   \n",
      "1      1113     50.30      1.01       8.76   7.50000    13.90     0.16   \n",
      "2      2020     50.10      0.57       4.17   6.63000    14.50     0.21   \n",
      "3       173     49.10      0.45      12.30   7.12000    15.80     0.16   \n",
      "4      2208     52.57      0.11       5.52   3.35000    19.58     0.09   \n",
      "\n",
      "   CaO_Cpx  Na2O_Cpx  Cr2O3_Cpx  ...  Al2O3_Liq   FeOt_Liq   MgO_Liq  \\\n",
      "0    16.02      0.17   0.005554  ...  10.359580  19.252317  4.930223   \n",
      "1    16.70      1.12   0.009121  ...  15.974441   9.584665  5.361422   \n",
      "2    22.10      0.20   0.000748  ...  19.302035   8.230078  4.308287   \n",
      "3    15.50      0.99   0.040000  ...  19.678354   9.789232  7.232045   \n",
      "4    17.52      0.34   1.300000  ...  18.274061   4.771951  8.961222   \n",
      "\n",
      "    MnO_Liq    CaO_Liq  Na2O_Liq   K2O_Liq  Temperature_C  Percentile_84  \\\n",
      "0  0.560253  10.074361  1.578894  0.254660    1139.245605    1139.414795   \n",
      "1  0.159744   8.486422  2.705671  0.549121    1296.646240    1314.672910   \n",
      "2  0.204615   9.560077  3.364783  0.784358    1015.845764    1017.381978   \n",
      "3  0.129857   9.609430  3.715912  0.169813    1337.841064    1345.050371   \n",
      "4  0.100462  10.267229  2.682339  1.818364    1267.686890    1269.444292   \n",
      "\n",
      "   Percentile_16  \n",
      "0    1138.755840  \n",
      "1    1276.815474  \n",
      "2    1014.765881  \n",
      "3    1330.415322  \n",
      "4    1264.922632  \n",
      "\n",
      "[5 rows x 22 columns]\n",
      "  Sample_ID  SiO2_Cpx  TiO2_Cpx  Al2O3_Cpx  FeOt_Cpx  MgO_Cpx  MnO_Cpx  \\\n",
      "0      1542     51.98      0.26       1.54  12.82994    15.66     0.57   \n",
      "1      1113     50.30      1.01       8.76   7.50000    13.90     0.16   \n",
      "2      2020     50.10      0.57       4.17   6.63000    14.50     0.21   \n",
      "3       173     49.10      0.45      12.30   7.12000    15.80     0.16   \n",
      "4      2208     52.57      0.11       5.52   3.35000    19.58     0.09   \n",
      "\n",
      "   CaO_Cpx  Na2O_Cpx  Cr2O3_Cpx  ...  Al2O3_Liq   FeOt_Liq   MgO_Liq  \\\n",
      "0    16.02      0.17   0.005554  ...  10.359580  19.252317  4.930223   \n",
      "1    16.70      1.12   0.009121  ...  15.974441   9.584665  5.361422   \n",
      "2    22.10      0.20   0.000748  ...  19.302035   8.230078  4.308287   \n",
      "3    15.50      0.99   0.040000  ...  19.678354   9.789232  7.232045   \n",
      "4    17.52      0.34   1.300000  ...  18.274061   4.771951  8.961222   \n",
      "\n",
      "    MnO_Liq    CaO_Liq  Na2O_Liq   K2O_Liq  Temperature_C  Percentile_84  \\\n",
      "0  0.560253  10.074361  1.578894  0.254660    1139.245605    1139.414795   \n",
      "1  0.159744   8.486422  2.705671  0.549121    1296.646240    1314.672910   \n",
      "2  0.204615   9.560077  3.364783  0.784358    1015.845764    1017.381978   \n",
      "3  0.129857   9.609430  3.715912  0.169813    1337.841064    1345.050371   \n",
      "4  0.100462  10.267229  2.682339  1.818364    1267.686890    1269.444292   \n",
      "\n",
      "   Percentile_16  \n",
      "0    1138.755840  \n",
      "1    1276.815474  \n",
      "2    1014.765881  \n",
      "3    1330.415322  \n",
      "4    1264.922632  \n",
      "\n",
      "[5 rows x 22 columns]\n"
     ]
    }
   ],
   "source": [
    "unit = 'kbar' if output == 'Pressure' else 'C'\n",
    "\n",
    "unique_y_pred = np.apply_along_axis(np.median,1, np.split(y_pred[:,0],len(y_pred)/p))\n",
    "unique_y_perc_max = np.apply_along_axis(max_perc,1, np.split(y_pred[:,0],len(y_pred)/p))\n",
    "unique_y_perc_min = np.apply_along_axis(min_perc,1, np.split(y_pred[:,0],len(y_pred)/p))\n",
    "\n",
    "bias_temp = bias_f(unique_y_pred,\n",
    "                   ang_left, bias_popt_left, \n",
    "                   ang_right, bias_popt_right)\n",
    "\n",
    "unique_y_pred = unique_y_pred - bias_temp\n",
    "unique_y_perc_max = unique_y_perc_max - bias_temp\n",
    "unique_y_perc_min = unique_y_perc_min - bias_temp\n",
    "\n",
    "error = (unique_y_perc_max - unique_y_perc_min)/2\n",
    "predictions = pd.DataFrame(data=np.transpose(np.array([unique_y_pred,unique_y_perc_max,unique_y_perc_min])),    \n",
    "             columns=[output+'_'+unit, 'Percentile_84', 'Percentile_16'])  \n",
    "\n",
    "print('Predictions:')\n",
    "print(predictions)\n",
    "\n",
    "df_orig = df_init\n",
    "df_orig['Sample_ID'] = df_orig['Sample_ID'].astype(str)\n",
    "\n",
    "if model == 'cpx_only':\n",
    "    df_orig = pd.concat([df_orig['Sample_ID'], df_orig[Elements_Cpx]], axis=1)\n",
    "    output_file_name = 'out-files/Results_cpx_only_' + output + '.xlsx'\n",
    "    \n",
    "elif model == 'cpx_liquid':\n",
    "    df_orig = pd.concat([df_orig['Sample_ID'], df_orig[Elements_Cpx + Elements_Liq]], axis=1)\n",
    "    output_file_name = 'out-files/Results_cpx_liquid_' + output + '.xlsx'\n",
    "    \n",
    "finaldf = pd.concat([df_orig, predictions], axis=1)    \n",
    "print(finaldf.head())\n",
    "\n",
    "\n",
    "print(finaldf.head())\n",
    "finaldf.to_excel(output_file_name, sheet_name=output, index=False)\n"
   ]
  },
  {
   "cell_type": "markdown",
   "id": "4bc340fd-680d-4cc1-9f5e-a81d9bdfd705",
   "metadata": {},
   "source": [
    "# Data Visualization"
   ]
  },
  {
   "cell_type": "code",
   "execution_count": 10,
   "id": "3a06da2e-394c-4246-a0bc-189461e0a314",
   "metadata": {},
   "outputs": [
    {
     "data": {
      "image/png": "[encoded data removed]",
      "text/plain": [
       "<Figure size 640x480 with 1 Axes>"
      ]
     },
     "metadata": {},
     "output_type": "display_data"
    }
   ],
   "source": [
    "# Plot histogram\n",
    "My_color = '#9BB0C1' if output == 'Pressure' else '#D37676'\n",
    "plt.hist(finaldf[output+'_'+unit], color=My_color, edgecolor='black')\n",
    "plt.xlabel(output+' ['+unit+']')\n",
    "plt.ylabel('Frequency')\n",
    "plt.title(output)\n",
    "plt.grid(color='#B2B2B2', linestyle='--', linewidth=0.5, alpha=0.4)\n",
    "plt.savefig('Figures/'+'Results_'+output+ ('_cpx' if model== 'cpx_only' else '_cpx_liq') +'.pdf', format='pdf')\n"
   ]
  }
 ],
 "metadata": {
  "kernelspec": {
   "display_name": "Python 3 (ipykernel)",
   "language": "python",
   "name": "python3"
  },
  "language_info": {
   "codemirror_mode": {
    "name": "ipython",
    "version": 3
   },
   "file_extension": ".py",
   "mimetype": "text/x-python",
   "name": "python",
   "nbconvert_exporter": "python",
   "pygments_lexer": "ipython3",
   "version": "3.11.5"
  },
  "toc": {
   "base_numbering": 1,
   "nav_menu": {},
   "number_sections": true,
   "sideBar": true,
   "skip_h1_title": false,
   "title_cell": "Table of Contents",
   "title_sidebar": "Contents",
   "toc_cell": false,
   "toc_position": {
    "height": "calc(100% - 180px)",
    "left": "10px",
    "top": "150px",
    "width": "165px"
   },
   "toc_section_display": true,
   "toc_window_display": false
  }
 },
 "nbformat": 4,
 "nbformat_minor": 5
}
